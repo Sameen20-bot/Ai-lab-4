{
 "cells": [
  {
   "cell_type": "code",
   "execution_count": 5,
   "id": "06c38e85-5eab-441a-9523-7ae6d57010c0",
   "metadata": {},
   "outputs": [
    {
     "name": "stdout",
     "output_type": "stream",
     "text": [
      "Prediction: [0 0]\n",
      "Confusion Matrix:\n",
      " [[1 0]\n",
      " [1 0]]\n",
      "Accuracy: 0.5\n",
      "Calculated Accuracy: 0.50 or 50.00%\n"
     ]
    }
   ],
   "source": [
    "import pandas as pd\n",
    "from sklearn.preprocessing import LabelEncoder\n",
    "from sklearn.naive_bayes import GaussianNB\n",
    "from sklearn.metrics import confusion_matrix, accuracy_score\n",
    "from sklearn.model_selection import train_test_split\n",
    "\n",
    "data = {\n",
    "    'Weather': ['Sunny', 'Overcast', 'Rainy', 'Rainy', 'Rainy',\n",
    "                'Overcast', 'Sunny', 'Sunny', 'Rainy', 'Sunny'],\n",
    "    'Temperature': ['Hot', 'Cool', 'Hot', 'Cool', 'Mild',\n",
    "                    'Hot', 'Cool', 'Mild', 'Cool', 'Hot'],\n",
    "    'Play': ['No', 'Yes', 'Yes', 'No', 'Yes', 'Yes', 'Yes', 'No', 'Yes', 'No']\n",
    "}\n",
    "df = pd.DataFrame(data)\n",
    "\n",
    "le = LabelEncoder()\n",
    "df['Weather'] = le.fit_transform(df['Weather'])\n",
    "df['Temperature'] = le.fit_transform(df['Temperature'])\n",
    "df['Play'] = le.fit_transform(df['Play'])\n",
    "\n",
    "features = df[['Weather', 'Temperature']]\n",
    "labels = df['Play']\n",
    "\n",
    "features_train, features_test, label_train, label_test = train_test_split(\n",
    "    features, labels, test_size=0.2, random_state=42, stratify=labels)  # Stratify ensures both labels in the split\n",
    "\n",
    "model = GaussianNB()\n",
    "model.fit(features_train, label_train)\n",
    "predicted = model.predict(features_test)\n",
    "\n",
    "print(\"Prediction:\", predicted)\n",
    "cm = confusion_matrix(label_test, predicted, labels=[0, 1])  # Ensure both labels are included\n",
    "print(\"Confusion Matrix:\\n\", cm)\n",
    "\n",
    "accuracy = accuracy_score(label_test, predicted)\n",
    "print(\"Accuracy:\", accuracy)\n",
    "\n",
    "TP = cm[1][1]  # True Positive\n",
    "TN = cm[0][0]  # True Negative\n",
    "FP = cm[0][1]  # False Positive\n",
    "FN = cm[1][0]  # False Negative\n",
    "\n",
    "if (TP + TN + FP + FN) > 0:\n",
    "    calculated_accuracy = (TP + TN) / (TP + TN + FP + FN)\n",
    "    print(f\"Calculated Accuracy: {calculated_accuracy:.2f} or {calculated_accuracy * 100:.2f}%\")\n"
   ]
  },
  {
   "cell_type": "code",
   "execution_count": 7,
   "id": "c3784f48-e0fd-4deb-b287-cf41f899f050",
   "metadata": {},
   "outputs": [
    {
     "name": "stdout",
     "output_type": "stream",
     "text": [
      "Prediction: Will the person buy a computer? Yes\n"
     ]
    }
   ],
   "source": [
    "import pandas as pd\n",
    "from sklearn.naive_bayes import GaussianNB\n",
    "\n",
    "# Dataset creation\n",
    "data = {\n",
    "    'age': ['youth', 'youth', 'middle_aged', 'senior', 'senior', 'senior',\n",
    "            'middle_aged', 'youth', 'youth', 'senior', 'youth', 'middle_aged', 'middle_aged', 'senior'],\n",
    "    'income': ['high', 'high', 'high', 'medium', 'low', 'low',\n",
    "               'low', 'medium', 'low', 'medium', 'low', 'medium', 'high', 'medium'],\n",
    "    'student': ['no', 'no', 'no', 'no', 'yes', 'yes',\n",
    "                'yes', 'no', 'yes', 'yes', 'yes', 'no', 'yes', 'no'],\n",
    "    'credit_rating': ['fair', 'excellent', 'fair', 'fair', 'fair', 'excellent',\n",
    "                      'excellent', 'fair', 'fair', 'fair', 'excellent', 'excellent', 'fair', 'excellent'],\n",
    "    'buys_computer': ['no', 'no', 'yes', 'yes', 'yes', 'no',\n",
    "                      'yes', 'no', 'yes', 'yes', 'yes', 'yes', 'yes', 'no']\n",
    "}\n",
    "\n",
    "# Convert dataset to DataFrame\n",
    "df = pd.DataFrame(data)\n",
    "\n",
    "# Encoding categorical variables\n",
    "df['age'] = df['age'].astype('category').cat.codes\n",
    "df['income'] = df['income'].astype('category').cat.codes\n",
    "df['student'] = df['student'].astype('category').cat.codes\n",
    "df['credit_rating'] = df['credit_rating'].astype('category').cat.codes\n",
    "df['buys_computer'] = df['buys_computer'].map({'no': 0, 'yes': 1})\n",
    "\n",
    "# Splitting features and target\n",
    "X = df[['age', 'income', 'student', 'credit_rating']]\n",
    "y = df['buys_computer']\n",
    "\n",
    "# Model training\n",
    "model = GaussianNB()\n",
    "model.fit(X, y)\n",
    "\n",
    "# Predicting for a new data point\n",
    "prediction_input = pd.DataFrame([[2, 1, 1, 0]], columns=['age', 'income', 'student', 'credit_rating'])\n",
    "prediction = model.predict(prediction_input)\n",
    "\n",
    "# Result interpretation\n",
    "result = \"Yes\" if prediction[0] == 1 else \"No\"\n",
    "print(f\"Prediction: Will the person buy a computer? {result}\")\n"
   ]
  },
  {
   "cell_type": "code",
   "execution_count": null,
   "id": "8313291f-944a-447f-a46c-e7ebd8aa18a6",
   "metadata": {},
   "outputs": [],
   "source": []
  }
 ],
 "metadata": {
  "kernelspec": {
   "display_name": "Python 3 (ipykernel)",
   "language": "python",
   "name": "python3"
  },
  "language_info": {
   "codemirror_mode": {
    "name": "ipython",
    "version": 3
   },
   "file_extension": ".py",
   "mimetype": "text/x-python",
   "name": "python",
   "nbconvert_exporter": "python",
   "pygments_lexer": "ipython3",
   "version": "3.12.7"
  }
 },
 "nbformat": 4,
 "nbformat_minor": 5
}
